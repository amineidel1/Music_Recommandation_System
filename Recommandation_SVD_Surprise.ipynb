{
 "cells": [
  {
   "cell_type": "markdown",
   "metadata": {},
   "source": [
    "## Import libraries"
   ]
  },
  {
   "cell_type": "code",
   "execution_count": 19,
   "metadata": {
    "id": "cB3woeO4NHa3",
    "tags": []
   },
   "outputs": [],
   "source": [
    "import pandas as pd\n",
    "import matplotlib.pyplot as plt\n",
    "import numpy as np\n",
    "from surprise import Reader, Dataset,accuracy,SVD,dump\n",
    "from surprise.model_selection import train_test_split,cross_validate,GridSearchCV\n",
    "from collections import defaultdict\n",
    "import seaborn as sns\n"
   ]
  },
  {
   "cell_type": "markdown",
   "metadata": {},
   "source": [
    "## Extract Data"
   ]
  },
  {
   "cell_type": "code",
   "execution_count": 20,
   "metadata": {
    "id": "8f0rO-xBO7jQ",
    "tags": []
   },
   "outputs": [],
   "source": [
    "df=pd.read_csv('song_dataset.csv',sep=',')"
   ]
  },
  {
   "cell_type": "markdown",
   "metadata": {},
   "source": [
    "# Explore Data"
   ]
  },
  {
   "cell_type": "code",
   "execution_count": 21,
   "metadata": {
    "colab": {
     "base_uri": "https://localhost:8080/",
     "height": 206
    },
    "id": "zFg1KZEnQTOx",
    "outputId": "3b705ddb-c842-4c21-8c8b-3bb3a8e8169c",
    "tags": []
   },
   "outputs": [
    {
     "data": {
      "text/html": [
       "<div>\n",
       "<style scoped>\n",
       "    .dataframe tbody tr th:only-of-type {\n",
       "        vertical-align: middle;\n",
       "    }\n",
       "\n",
       "    .dataframe tbody tr th {\n",
       "        vertical-align: top;\n",
       "    }\n",
       "\n",
       "    .dataframe thead th {\n",
       "        text-align: right;\n",
       "    }\n",
       "</style>\n",
       "<table border=\"1\" class=\"dataframe\">\n",
       "  <thead>\n",
       "    <tr style=\"text-align: right;\">\n",
       "      <th></th>\n",
       "      <th>user</th>\n",
       "      <th>song</th>\n",
       "      <th>play_count</th>\n",
       "      <th>title</th>\n",
       "      <th>release</th>\n",
       "      <th>artist_name</th>\n",
       "      <th>year</th>\n",
       "    </tr>\n",
       "  </thead>\n",
       "  <tbody>\n",
       "    <tr>\n",
       "      <th>0</th>\n",
       "      <td>b80344d063b5ccb3212f76538f3d9e43d87dca9e</td>\n",
       "      <td>SOAKIMP12A8C130995</td>\n",
       "      <td>1</td>\n",
       "      <td>The Cove</td>\n",
       "      <td>Thicker Than Water</td>\n",
       "      <td>Jack Johnson</td>\n",
       "      <td>0</td>\n",
       "    </tr>\n",
       "    <tr>\n",
       "      <th>1</th>\n",
       "      <td>b80344d063b5ccb3212f76538f3d9e43d87dca9e</td>\n",
       "      <td>SOAPDEY12A81C210A9</td>\n",
       "      <td>1</td>\n",
       "      <td>Nothing from Nothing</td>\n",
       "      <td>To Die For</td>\n",
       "      <td>Billy Preston</td>\n",
       "      <td>1974</td>\n",
       "    </tr>\n",
       "    <tr>\n",
       "      <th>2</th>\n",
       "      <td>b80344d063b5ccb3212f76538f3d9e43d87dca9e</td>\n",
       "      <td>SOBBMDR12A8C13253B</td>\n",
       "      <td>2</td>\n",
       "      <td>Entre Dos Aguas</td>\n",
       "      <td>Flamenco Para Niños</td>\n",
       "      <td>Paco De Lucia</td>\n",
       "      <td>1976</td>\n",
       "    </tr>\n",
       "    <tr>\n",
       "      <th>3</th>\n",
       "      <td>b80344d063b5ccb3212f76538f3d9e43d87dca9e</td>\n",
       "      <td>SOBFNSP12AF72A0E22</td>\n",
       "      <td>1</td>\n",
       "      <td>Under Cold Blue Stars</td>\n",
       "      <td>Under Cold Blue Stars</td>\n",
       "      <td>Josh Rouse</td>\n",
       "      <td>2002</td>\n",
       "    </tr>\n",
       "    <tr>\n",
       "      <th>4</th>\n",
       "      <td>b80344d063b5ccb3212f76538f3d9e43d87dca9e</td>\n",
       "      <td>SOBFOVM12A58A7D494</td>\n",
       "      <td>1</td>\n",
       "      <td>Riot Radio (Soundtrack Version)</td>\n",
       "      <td>Nick &amp; Norah's Infinite Playlist - Original Mo...</td>\n",
       "      <td>The Dead 60s</td>\n",
       "      <td>0</td>\n",
       "    </tr>\n",
       "  </tbody>\n",
       "</table>\n",
       "</div>"
      ],
      "text/plain": [
       "                                       user                song  play_count  \\\n",
       "0  b80344d063b5ccb3212f76538f3d9e43d87dca9e  SOAKIMP12A8C130995           1   \n",
       "1  b80344d063b5ccb3212f76538f3d9e43d87dca9e  SOAPDEY12A81C210A9           1   \n",
       "2  b80344d063b5ccb3212f76538f3d9e43d87dca9e  SOBBMDR12A8C13253B           2   \n",
       "3  b80344d063b5ccb3212f76538f3d9e43d87dca9e  SOBFNSP12AF72A0E22           1   \n",
       "4  b80344d063b5ccb3212f76538f3d9e43d87dca9e  SOBFOVM12A58A7D494           1   \n",
       "\n",
       "                             title  \\\n",
       "0                         The Cove   \n",
       "1             Nothing from Nothing   \n",
       "2                  Entre Dos Aguas   \n",
       "3            Under Cold Blue Stars   \n",
       "4  Riot Radio (Soundtrack Version)   \n",
       "\n",
       "                                             release    artist_name  year  \n",
       "0                                 Thicker Than Water   Jack Johnson     0  \n",
       "1                                         To Die For  Billy Preston  1974  \n",
       "2                                Flamenco Para Niños  Paco De Lucia  1976  \n",
       "3                              Under Cold Blue Stars     Josh Rouse  2002  \n",
       "4  Nick & Norah's Infinite Playlist - Original Mo...   The Dead 60s     0  "
      ]
     },
     "execution_count": 21,
     "metadata": {},
     "output_type": "execute_result"
    }
   ],
   "source": [
    "df.head()"
   ]
  },
  {
   "cell_type": "code",
   "execution_count": 22,
   "metadata": {
    "id": "mxMSB9-01Mci",
    "tags": []
   },
   "outputs": [],
   "source": [
    "df1=df.copy()"
   ]
  },
  {
   "cell_type": "code",
   "execution_count": 23,
   "metadata": {
    "colab": {
     "base_uri": "https://localhost:8080/"
    },
    "id": "0xsYldn97TAJ",
    "outputId": "e147b087-1e0b-48f1-ca7e-987438c2352b",
    "tags": []
   },
   "outputs": [
    {
     "data": {
      "text/plain": [
       "(102627, 7)"
      ]
     },
     "execution_count": 23,
     "metadata": {},
     "output_type": "execute_result"
    }
   ],
   "source": [
    "#Dimension of the dataset\n",
    "df1.shape"
   ]
  },
  {
   "cell_type": "code",
   "execution_count": 24,
   "metadata": {
    "colab": {
     "base_uri": "https://localhost:8080/"
    },
    "id": "jDxJzDZaXhSY",
    "outputId": "92026ac4-43ed-4af0-c98f-f996b00e8b85",
    "tags": []
   },
   "outputs": [
    {
     "name": "stdout",
     "output_type": "stream",
     "text": [
      "<class 'pandas.core.frame.DataFrame'>\n",
      "RangeIndex: 102627 entries, 0 to 102626\n",
      "Data columns (total 7 columns):\n",
      " #   Column       Non-Null Count   Dtype \n",
      "---  ------       --------------   ----- \n",
      " 0   user         102627 non-null  object\n",
      " 1   song         102627 non-null  object\n",
      " 2   play_count   102627 non-null  int64 \n",
      " 3   title        102627 non-null  object\n",
      " 4   release      102627 non-null  object\n",
      " 5   artist_name  102627 non-null  object\n",
      " 6   year         102627 non-null  int64 \n",
      "dtypes: int64(2), object(5)\n",
      "memory usage: 5.5+ MB\n"
     ]
    }
   ],
   "source": [
    "#Get information about the dataset\n",
    "df1.info()"
   ]
  },
  {
   "cell_type": "code",
   "execution_count": 25,
   "metadata": {
    "colab": {
     "base_uri": "https://localhost:8080/"
    },
    "id": "yY4O8DLvUIj1",
    "outputId": "aca9bf17-69b5-4732-a6d3-22994c1a60fe",
    "tags": []
   },
   "outputs": [
    {
     "data": {
      "text/plain": [
       "user           0\n",
       "song           0\n",
       "play_count     0\n",
       "title          0\n",
       "release        0\n",
       "artist_name    0\n",
       "year           0\n",
       "dtype: int64"
      ]
     },
     "execution_count": 25,
     "metadata": {},
     "output_type": "execute_result"
    }
   ],
   "source": [
    "#Check missing values \n",
    "df1.isnull().sum()"
   ]
  },
  {
   "cell_type": "code",
   "execution_count": 26,
   "metadata": {
    "colab": {
     "base_uri": "https://localhost:8080/",
     "height": 300
    },
    "id": "dd-cMFRVQdWP",
    "outputId": "257c7ddd-578c-406a-e12c-2f93490f5d5b",
    "tags": []
   },
   "outputs": [
    {
     "data": {
      "text/html": [
       "<div>\n",
       "<style scoped>\n",
       "    .dataframe tbody tr th:only-of-type {\n",
       "        vertical-align: middle;\n",
       "    }\n",
       "\n",
       "    .dataframe tbody tr th {\n",
       "        vertical-align: top;\n",
       "    }\n",
       "\n",
       "    .dataframe thead th {\n",
       "        text-align: right;\n",
       "    }\n",
       "</style>\n",
       "<table border=\"1\" class=\"dataframe\">\n",
       "  <thead>\n",
       "    <tr style=\"text-align: right;\">\n",
       "      <th></th>\n",
       "      <th>play_count</th>\n",
       "      <th>year</th>\n",
       "    </tr>\n",
       "  </thead>\n",
       "  <tbody>\n",
       "    <tr>\n",
       "      <th>count</th>\n",
       "      <td>102627.000000</td>\n",
       "      <td>102627.000000</td>\n",
       "    </tr>\n",
       "    <tr>\n",
       "      <th>mean</th>\n",
       "      <td>2.885790</td>\n",
       "      <td>1624.812389</td>\n",
       "    </tr>\n",
       "    <tr>\n",
       "      <th>std</th>\n",
       "      <td>8.569376</td>\n",
       "      <td>781.595402</td>\n",
       "    </tr>\n",
       "    <tr>\n",
       "      <th>min</th>\n",
       "      <td>1.000000</td>\n",
       "      <td>0.000000</td>\n",
       "    </tr>\n",
       "    <tr>\n",
       "      <th>25%</th>\n",
       "      <td>1.000000</td>\n",
       "      <td>1984.000000</td>\n",
       "    </tr>\n",
       "    <tr>\n",
       "      <th>50%</th>\n",
       "      <td>1.000000</td>\n",
       "      <td>2002.000000</td>\n",
       "    </tr>\n",
       "    <tr>\n",
       "      <th>75%</th>\n",
       "      <td>3.000000</td>\n",
       "      <td>2007.000000</td>\n",
       "    </tr>\n",
       "    <tr>\n",
       "      <th>max</th>\n",
       "      <td>1890.000000</td>\n",
       "      <td>2010.000000</td>\n",
       "    </tr>\n",
       "  </tbody>\n",
       "</table>\n",
       "</div>"
      ],
      "text/plain": [
       "          play_count           year\n",
       "count  102627.000000  102627.000000\n",
       "mean        2.885790    1624.812389\n",
       "std         8.569376     781.595402\n",
       "min         1.000000       0.000000\n",
       "25%         1.000000    1984.000000\n",
       "50%         1.000000    2002.000000\n",
       "75%         3.000000    2007.000000\n",
       "max      1890.000000    2010.000000"
      ]
     },
     "execution_count": 26,
     "metadata": {},
     "output_type": "execute_result"
    }
   ],
   "source": [
    "df1.describe()"
   ]
  },
  {
   "cell_type": "code",
   "execution_count": 27,
   "metadata": {},
   "outputs": [
    {
     "name": "stdout",
     "output_type": "stream",
     "text": [
      "Number of songs : +44458\n",
      "Number of users : +2042\n"
     ]
    }
   ],
   "source": [
    "#Number of songs ans users \n",
    "print(f\"Number of songs : +{len(df1['song'].unique())}\")\n",
    "print(f\"Number of users : +{len(df1['user'].unique())}\")\n"
   ]
  },
  {
   "cell_type": "markdown",
   "metadata": {},
   "source": [
    "## Most listend songs"
   ]
  },
  {
   "cell_type": "code",
   "execution_count": 28,
   "metadata": {
    "colab": {
     "base_uri": "https://localhost:8080/",
     "height": 455
    },
    "id": "emuY3kilS4-q",
    "outputId": "455ebc51-e58a-4624-c82d-dc675b6f8ed9",
    "tags": []
   },
   "outputs": [],
   "source": [
    "top_songs=df1[['title','play_count']].groupby('title').sum().sort_values(by=['play_count'],ascending=False).head(10)"
   ]
  },
  {
   "cell_type": "code",
   "execution_count": 29,
   "metadata": {},
   "outputs": [
    {
     "data": {
      "image/png": "[encoded data removed]",
      "text/plain": [
       "<Figure size 1000x400 with 1 Axes>"
      ]
     },
     "metadata": {},
     "output_type": "display_data"
    }
   ],
   "source": [
    "# Plotting the top 10 most listened songs\n",
    "plt.figure(figsize=(10, 4))\n",
    "sns.barplot(x=top_songs['play_count'], y=top_songs.index.get_level_values('title'), palette=\"Blues_d\")\n",
    "plt.xlabel('Total Play Count')\n",
    "plt.ylabel('Song Title')\n",
    "plt.title('Top 10 Most Listened Songs')\n",
    "plt.show()\n",
    "\n"
   ]
  },
  {
   "cell_type": "markdown",
   "metadata": {},
   "source": [
    "## Most popular artists"
   ]
  },
  {
   "cell_type": "code",
   "execution_count": 30,
   "metadata": {
    "colab": {
     "base_uri": "https://localhost:8080/",
     "height": 455
    },
    "id": "rspY-GsZhZRa",
    "outputId": "19098ac5-f5d8-4a1a-a339-dd28c6a5a4e7",
    "tags": []
   },
   "outputs": [],
   "source": [
    "top_artists=df1[['artist_name','play_count']].groupby('artist_name').count().sort_values(by=['play_count'],ascending=False).head(10)\n"
   ]
  },
  {
   "cell_type": "code",
   "execution_count": 31,
   "metadata": {},
   "outputs": [
    {
     "data": {
      "image/png": "[encoded data removed]",
      "text/plain": [
       "<Figure size 1000x400 with 1 Axes>"
      ]
     },
     "metadata": {},
     "output_type": "display_data"
    }
   ],
   "source": [
    "# Plotting the top 10 most popular artists\n",
    "plt.figure(figsize=(10, 4))\n",
    "sns.barplot(x=top_artists['play_count'], y=top_artists.index, palette=\"viridis\")\n",
    "plt.xlabel('Total Play Count')\n",
    "plt.ylabel('Artist Name')\n",
    "plt.title('Top 10 Most Popular Artists')\n",
    "plt.show()"
   ]
  },
  {
   "cell_type": "markdown",
   "metadata": {},
   "source": [
    "## Distribution of song count for users"
   ]
  },
  {
   "cell_type": "code",
   "execution_count": 32,
   "metadata": {},
   "outputs": [
    {
     "data": {
      "image/png": "[encoded data removed]",
      "text/plain": [
       "<Figure size 1000x600 with 1 Axes>"
      ]
     },
     "metadata": {},
     "output_type": "display_data"
    },
    {
     "data": {
      "text/html": [
       "<div>\n",
       "<style scoped>\n",
       "    .dataframe tbody tr th:only-of-type {\n",
       "        vertical-align: middle;\n",
       "    }\n",
       "\n",
       "    .dataframe tbody tr th {\n",
       "        vertical-align: top;\n",
       "    }\n",
       "\n",
       "    .dataframe thead th {\n",
       "        text-align: right;\n",
       "    }\n",
       "</style>\n",
       "<table border=\"1\" class=\"dataframe\">\n",
       "  <thead>\n",
       "    <tr style=\"text-align: right;\">\n",
       "      <th></th>\n",
       "      <th>song_count</th>\n",
       "    </tr>\n",
       "  </thead>\n",
       "  <tbody>\n",
       "    <tr>\n",
       "      <th>count</th>\n",
       "      <td>2042.000000</td>\n",
       "    </tr>\n",
       "    <tr>\n",
       "      <th>mean</th>\n",
       "      <td>50.258080</td>\n",
       "    </tr>\n",
       "    <tr>\n",
       "      <th>std</th>\n",
       "      <td>65.800267</td>\n",
       "    </tr>\n",
       "    <tr>\n",
       "      <th>min</th>\n",
       "      <td>10.000000</td>\n",
       "    </tr>\n",
       "    <tr>\n",
       "      <th>25%</th>\n",
       "      <td>17.000000</td>\n",
       "    </tr>\n",
       "    <tr>\n",
       "      <th>50%</th>\n",
       "      <td>29.000000</td>\n",
       "    </tr>\n",
       "    <tr>\n",
       "      <th>75%</th>\n",
       "      <td>58.000000</td>\n",
       "    </tr>\n",
       "    <tr>\n",
       "      <th>max</th>\n",
       "      <td>1309.000000</td>\n",
       "    </tr>\n",
       "  </tbody>\n",
       "</table>\n",
       "</div>"
      ],
      "text/plain": [
       "        song_count\n",
       "count  2042.000000\n",
       "mean     50.258080\n",
       "std      65.800267\n",
       "min      10.000000\n",
       "25%      17.000000\n",
       "50%      29.000000\n",
       "75%      58.000000\n",
       "max    1309.000000"
      ]
     },
     "execution_count": 32,
     "metadata": {},
     "output_type": "execute_result"
    }
   ],
   "source": [
    "# Analyzing the distribution of song count per user\n",
    "user_song_counts = df1.groupby('user').agg(song_count=pd.NamedAgg(column='song', aggfunc='count'))\n",
    "\n",
    "# Plotting the distribution of song count per user\n",
    "plt.figure(figsize=(10, 6))\n",
    "sns.histplot(user_song_counts['song_count'], bins=50, kde=True, color='skyblue')\n",
    "plt.xlabel('Number of Songs per User')\n",
    "plt.ylabel('Frequency')\n",
    "plt.title('Distribution of Song Count per User')\n",
    "plt.show()\n",
    "\n",
    "user_song_counts.describe()"
   ]
  },
  {
   "cell_type": "code",
   "execution_count": 33,
   "metadata": {
    "id": "phAYeNtNCslx",
    "tags": []
   },
   "outputs": [],
   "source": [
    "df2=df1.copy()"
   ]
  },
  {
   "cell_type": "code",
   "execution_count": 34,
   "metadata": {
    "colab": {
     "base_uri": "https://localhost:8080/",
     "height": 458
    },
    "id": "JBvDLqjLC9jV",
    "outputId": "ab45b0b7-0c43-4382-fdfb-b6bf8fa6fde7",
    "tags": []
   },
   "outputs": [
    {
     "data": {
      "text/html": [
       "<div>\n",
       "<style scoped>\n",
       "    .dataframe tbody tr th:only-of-type {\n",
       "        vertical-align: middle;\n",
       "    }\n",
       "\n",
       "    .dataframe tbody tr th {\n",
       "        vertical-align: top;\n",
       "    }\n",
       "\n",
       "    .dataframe thead th {\n",
       "        text-align: right;\n",
       "    }\n",
       "</style>\n",
       "<table border=\"1\" class=\"dataframe\">\n",
       "  <thead>\n",
       "    <tr style=\"text-align: right;\">\n",
       "      <th></th>\n",
       "      <th>user</th>\n",
       "      <th>song</th>\n",
       "      <th>play_count</th>\n",
       "      <th>title</th>\n",
       "      <th>release</th>\n",
       "      <th>artist_name</th>\n",
       "      <th>year</th>\n",
       "    </tr>\n",
       "  </thead>\n",
       "  <tbody>\n",
       "    <tr>\n",
       "      <th>0</th>\n",
       "      <td>b80344d063b5ccb3212f76538f3d9e43d87dca9e</td>\n",
       "      <td>SOAKIMP12A8C130995</td>\n",
       "      <td>1</td>\n",
       "      <td>The Cove</td>\n",
       "      <td>Thicker Than Water</td>\n",
       "      <td>Jack Johnson</td>\n",
       "      <td>0</td>\n",
       "    </tr>\n",
       "    <tr>\n",
       "      <th>1</th>\n",
       "      <td>b80344d063b5ccb3212f76538f3d9e43d87dca9e</td>\n",
       "      <td>SOAPDEY12A81C210A9</td>\n",
       "      <td>1</td>\n",
       "      <td>Nothing from Nothing</td>\n",
       "      <td>To Die For</td>\n",
       "      <td>Billy Preston</td>\n",
       "      <td>1974</td>\n",
       "    </tr>\n",
       "    <tr>\n",
       "      <th>2</th>\n",
       "      <td>b80344d063b5ccb3212f76538f3d9e43d87dca9e</td>\n",
       "      <td>SOBBMDR12A8C13253B</td>\n",
       "      <td>2</td>\n",
       "      <td>Entre Dos Aguas</td>\n",
       "      <td>Flamenco Para Niños</td>\n",
       "      <td>Paco De Lucia</td>\n",
       "      <td>1976</td>\n",
       "    </tr>\n",
       "    <tr>\n",
       "      <th>3</th>\n",
       "      <td>b80344d063b5ccb3212f76538f3d9e43d87dca9e</td>\n",
       "      <td>SOBFNSP12AF72A0E22</td>\n",
       "      <td>1</td>\n",
       "      <td>Under Cold Blue Stars</td>\n",
       "      <td>Under Cold Blue Stars</td>\n",
       "      <td>Josh Rouse</td>\n",
       "      <td>2002</td>\n",
       "    </tr>\n",
       "    <tr>\n",
       "      <th>4</th>\n",
       "      <td>b80344d063b5ccb3212f76538f3d9e43d87dca9e</td>\n",
       "      <td>SOBFOVM12A58A7D494</td>\n",
       "      <td>1</td>\n",
       "      <td>Riot Radio (Soundtrack Version)</td>\n",
       "      <td>Nick &amp; Norah's Infinite Playlist - Original Mo...</td>\n",
       "      <td>The Dead 60s</td>\n",
       "      <td>0</td>\n",
       "    </tr>\n",
       "    <tr>\n",
       "      <th>...</th>\n",
       "      <td>...</td>\n",
       "      <td>...</td>\n",
       "      <td>...</td>\n",
       "      <td>...</td>\n",
       "      <td>...</td>\n",
       "      <td>...</td>\n",
       "      <td>...</td>\n",
       "    </tr>\n",
       "    <tr>\n",
       "      <th>102622</th>\n",
       "      <td>21f4ac98aa1665bd42027ba12184a939ff435f59</td>\n",
       "      <td>SOKAKHH12AF72A5BAF</td>\n",
       "      <td>3</td>\n",
       "      <td>87</td>\n",
       "      <td>Hopeless Romantic</td>\n",
       "      <td>Bouncing Souls</td>\n",
       "      <td>1999</td>\n",
       "    </tr>\n",
       "    <tr>\n",
       "      <th>102623</th>\n",
       "      <td>21f4ac98aa1665bd42027ba12184a939ff435f59</td>\n",
       "      <td>SONPOXM12A8C1440C2</td>\n",
       "      <td>4</td>\n",
       "      <td>Space Olympics</td>\n",
       "      <td>Incredibad</td>\n",
       "      <td>The Lonely Island</td>\n",
       "      <td>2009</td>\n",
       "    </tr>\n",
       "    <tr>\n",
       "      <th>102624</th>\n",
       "      <td>21f4ac98aa1665bd42027ba12184a939ff435f59</td>\n",
       "      <td>SOPREHY12AB01815F9</td>\n",
       "      <td>8</td>\n",
       "      <td>I'm On A Boat</td>\n",
       "      <td>Incredibad</td>\n",
       "      <td>The Lonely Island / T-Pain</td>\n",
       "      <td>2009</td>\n",
       "    </tr>\n",
       "    <tr>\n",
       "      <th>102625</th>\n",
       "      <td>21f4ac98aa1665bd42027ba12184a939ff435f59</td>\n",
       "      <td>SOQXKUV12A6D4FB4C9</td>\n",
       "      <td>3</td>\n",
       "      <td>Amityville</td>\n",
       "      <td>The Marshall Mathers LP</td>\n",
       "      <td>Eminem / Bizarre</td>\n",
       "      <td>2000</td>\n",
       "    </tr>\n",
       "    <tr>\n",
       "      <th>102626</th>\n",
       "      <td>21f4ac98aa1665bd42027ba12184a939ff435f59</td>\n",
       "      <td>SOSJRJP12A6D4F826F</td>\n",
       "      <td>18</td>\n",
       "      <td>Master Of Puppets</td>\n",
       "      <td>Master Of Puppets</td>\n",
       "      <td>Metallica</td>\n",
       "      <td>1986</td>\n",
       "    </tr>\n",
       "  </tbody>\n",
       "</table>\n",
       "<p>102627 rows × 7 columns</p>\n",
       "</div>"
      ],
      "text/plain": [
       "                                            user                song  \\\n",
       "0       b80344d063b5ccb3212f76538f3d9e43d87dca9e  SOAKIMP12A8C130995   \n",
       "1       b80344d063b5ccb3212f76538f3d9e43d87dca9e  SOAPDEY12A81C210A9   \n",
       "2       b80344d063b5ccb3212f76538f3d9e43d87dca9e  SOBBMDR12A8C13253B   \n",
       "3       b80344d063b5ccb3212f76538f3d9e43d87dca9e  SOBFNSP12AF72A0E22   \n",
       "4       b80344d063b5ccb3212f76538f3d9e43d87dca9e  SOBFOVM12A58A7D494   \n",
       "...                                          ...                 ...   \n",
       "102622  21f4ac98aa1665bd42027ba12184a939ff435f59  SOKAKHH12AF72A5BAF   \n",
       "102623  21f4ac98aa1665bd42027ba12184a939ff435f59  SONPOXM12A8C1440C2   \n",
       "102624  21f4ac98aa1665bd42027ba12184a939ff435f59  SOPREHY12AB01815F9   \n",
       "102625  21f4ac98aa1665bd42027ba12184a939ff435f59  SOQXKUV12A6D4FB4C9   \n",
       "102626  21f4ac98aa1665bd42027ba12184a939ff435f59  SOSJRJP12A6D4F826F   \n",
       "\n",
       "        play_count                            title  \\\n",
       "0                1                         The Cove   \n",
       "1                1             Nothing from Nothing   \n",
       "2                2                  Entre Dos Aguas   \n",
       "3                1            Under Cold Blue Stars   \n",
       "4                1  Riot Radio (Soundtrack Version)   \n",
       "...            ...                              ...   \n",
       "102622           3                               87   \n",
       "102623           4                   Space Olympics   \n",
       "102624           8                    I'm On A Boat   \n",
       "102625           3                       Amityville   \n",
       "102626          18                Master Of Puppets   \n",
       "\n",
       "                                                  release  \\\n",
       "0                                      Thicker Than Water   \n",
       "1                                              To Die For   \n",
       "2                                     Flamenco Para Niños   \n",
       "3                                   Under Cold Blue Stars   \n",
       "4       Nick & Norah's Infinite Playlist - Original Mo...   \n",
       "...                                                   ...   \n",
       "102622                                  Hopeless Romantic   \n",
       "102623                                         Incredibad   \n",
       "102624                                         Incredibad   \n",
       "102625                            The Marshall Mathers LP   \n",
       "102626                                  Master Of Puppets   \n",
       "\n",
       "                       artist_name  year  \n",
       "0                     Jack Johnson     0  \n",
       "1                    Billy Preston  1974  \n",
       "2                    Paco De Lucia  1976  \n",
       "3                       Josh Rouse  2002  \n",
       "4                     The Dead 60s     0  \n",
       "...                            ...   ...  \n",
       "102622              Bouncing Souls  1999  \n",
       "102623           The Lonely Island  2009  \n",
       "102624  The Lonely Island / T-Pain  2009  \n",
       "102625            Eminem / Bizarre  2000  \n",
       "102626                   Metallica  1986  \n",
       "\n",
       "[102627 rows x 7 columns]"
      ]
     },
     "execution_count": 34,
     "metadata": {},
     "output_type": "execute_result"
    }
   ],
   "source": [
    "df2"
   ]
  },
  {
   "cell_type": "markdown",
   "metadata": {},
   "source": [
    "## User_Item_Matrix"
   ]
  },
  {
   "cell_type": "code",
   "execution_count": 35,
   "metadata": {},
   "outputs": [],
   "source": [
    "df_unique = df1.drop_duplicates(subset=['user', 'song'])\n",
    "user_item_matrix = df_unique.pivot(index='user', columns='song', values='play_count').fillna(0)"
   ]
  },
  {
   "cell_type": "code",
   "execution_count": 36,
   "metadata": {},
   "outputs": [
    {
     "data": {
      "text/html": [
       "<div>\n",
       "<style scoped>\n",
       "    .dataframe tbody tr th:only-of-type {\n",
       "        vertical-align: middle;\n",
       "    }\n",
       "\n",
       "    .dataframe tbody tr th {\n",
       "        vertical-align: top;\n",
       "    }\n",
       "\n",
       "    .dataframe thead th {\n",
       "        text-align: right;\n",
       "    }\n",
       "</style>\n",
       "<table border=\"1\" class=\"dataframe\">\n",
       "  <thead>\n",
       "    <tr style=\"text-align: right;\">\n",
       "      <th>song</th>\n",
       "      <th>SOAAAGQ12A8C1420C8</th>\n",
       "      <th>SOAABMP12A6D4F7633</th>\n",
       "      <th>SOAABVA12AC3DF673F</th>\n",
       "      <th>SOAACPJ12A81C21360</th>\n",
       "      <th>SOAACTC12AB0186A20</th>\n",
       "      <th>SOAADCB12A81C22AFA</th>\n",
       "      <th>SOAAEJI12AB0188AB5</th>\n",
       "      <th>SOAAEKX12A6D4F7E4E</th>\n",
       "      <th>SOAAFAC12A67ADF7EB</th>\n",
       "      <th>SOAAFBZ12AB01842D7</th>\n",
       "      <th>...</th>\n",
       "      <th>SOZZWTD12AF72A4FA1</th>\n",
       "      <th>SOZZWZV12A67AE140F</th>\n",
       "      <th>SOZZXAO12A58A7D379</th>\n",
       "      <th>SOZZXOX12A8AE47ED6</th>\n",
       "      <th>SOZZXZP12AB0180443</th>\n",
       "      <th>SOZZYAO12A6701FF36</th>\n",
       "      <th>SOZZYDA12AB01824FB</th>\n",
       "      <th>SOZZYMH12AB0180A51</th>\n",
       "      <th>SOZZZBY12A8C139058</th>\n",
       "      <th>SOZZZFB12A8AE45CDC</th>\n",
       "    </tr>\n",
       "    <tr>\n",
       "      <th>user</th>\n",
       "      <th></th>\n",
       "      <th></th>\n",
       "      <th></th>\n",
       "      <th></th>\n",
       "      <th></th>\n",
       "      <th></th>\n",
       "      <th></th>\n",
       "      <th></th>\n",
       "      <th></th>\n",
       "      <th></th>\n",
       "      <th></th>\n",
       "      <th></th>\n",
       "      <th></th>\n",
       "      <th></th>\n",
       "      <th></th>\n",
       "      <th></th>\n",
       "      <th></th>\n",
       "      <th></th>\n",
       "      <th></th>\n",
       "      <th></th>\n",
       "      <th></th>\n",
       "    </tr>\n",
       "  </thead>\n",
       "  <tbody>\n",
       "    <tr>\n",
       "      <th>0007c0e74728ca9ef0fe4eb7f75732e8026a278b</th>\n",
       "      <td>0.0</td>\n",
       "      <td>0.0</td>\n",
       "      <td>0.0</td>\n",
       "      <td>0.0</td>\n",
       "      <td>0.0</td>\n",
       "      <td>0.0</td>\n",
       "      <td>0.0</td>\n",
       "      <td>0.0</td>\n",
       "      <td>0.0</td>\n",
       "      <td>0.0</td>\n",
       "      <td>...</td>\n",
       "      <td>0.0</td>\n",
       "      <td>0.0</td>\n",
       "      <td>0.0</td>\n",
       "      <td>0.0</td>\n",
       "      <td>0.0</td>\n",
       "      <td>0.0</td>\n",
       "      <td>0.0</td>\n",
       "      <td>0.0</td>\n",
       "      <td>0.0</td>\n",
       "      <td>0.0</td>\n",
       "    </tr>\n",
       "    <tr>\n",
       "      <th>000ebc858861aca26bac9b49f650ed424cf882fc</th>\n",
       "      <td>0.0</td>\n",
       "      <td>0.0</td>\n",
       "      <td>0.0</td>\n",
       "      <td>0.0</td>\n",
       "      <td>0.0</td>\n",
       "      <td>0.0</td>\n",
       "      <td>0.0</td>\n",
       "      <td>0.0</td>\n",
       "      <td>0.0</td>\n",
       "      <td>0.0</td>\n",
       "      <td>...</td>\n",
       "      <td>0.0</td>\n",
       "      <td>0.0</td>\n",
       "      <td>0.0</td>\n",
       "      <td>0.0</td>\n",
       "      <td>0.0</td>\n",
       "      <td>0.0</td>\n",
       "      <td>0.0</td>\n",
       "      <td>0.0</td>\n",
       "      <td>0.0</td>\n",
       "      <td>0.0</td>\n",
       "    </tr>\n",
       "    <tr>\n",
       "      <th>00342a0cdf56a45465f09a39040a5bc25b7d0046</th>\n",
       "      <td>0.0</td>\n",
       "      <td>0.0</td>\n",
       "      <td>0.0</td>\n",
       "      <td>0.0</td>\n",
       "      <td>0.0</td>\n",
       "      <td>0.0</td>\n",
       "      <td>0.0</td>\n",
       "      <td>0.0</td>\n",
       "      <td>0.0</td>\n",
       "      <td>0.0</td>\n",
       "      <td>...</td>\n",
       "      <td>0.0</td>\n",
       "      <td>0.0</td>\n",
       "      <td>0.0</td>\n",
       "      <td>0.0</td>\n",
       "      <td>0.0</td>\n",
       "      <td>0.0</td>\n",
       "      <td>0.0</td>\n",
       "      <td>0.0</td>\n",
       "      <td>0.0</td>\n",
       "      <td>0.0</td>\n",
       "    </tr>\n",
       "    <tr>\n",
       "      <th>0039bd8483d578997718cdc0bf6c7c88b679f488</th>\n",
       "      <td>0.0</td>\n",
       "      <td>0.0</td>\n",
       "      <td>0.0</td>\n",
       "      <td>0.0</td>\n",
       "      <td>0.0</td>\n",
       "      <td>0.0</td>\n",
       "      <td>0.0</td>\n",
       "      <td>0.0</td>\n",
       "      <td>0.0</td>\n",
       "      <td>0.0</td>\n",
       "      <td>...</td>\n",
       "      <td>0.0</td>\n",
       "      <td>0.0</td>\n",
       "      <td>0.0</td>\n",
       "      <td>0.0</td>\n",
       "      <td>0.0</td>\n",
       "      <td>0.0</td>\n",
       "      <td>0.0</td>\n",
       "      <td>0.0</td>\n",
       "      <td>0.0</td>\n",
       "      <td>0.0</td>\n",
       "    </tr>\n",
       "    <tr>\n",
       "      <th>00498f4bab2bfeb17680113c7d9525ad5b0ad401</th>\n",
       "      <td>0.0</td>\n",
       "      <td>0.0</td>\n",
       "      <td>0.0</td>\n",
       "      <td>0.0</td>\n",
       "      <td>0.0</td>\n",
       "      <td>0.0</td>\n",
       "      <td>0.0</td>\n",
       "      <td>0.0</td>\n",
       "      <td>0.0</td>\n",
       "      <td>0.0</td>\n",
       "      <td>...</td>\n",
       "      <td>0.0</td>\n",
       "      <td>0.0</td>\n",
       "      <td>0.0</td>\n",
       "      <td>0.0</td>\n",
       "      <td>0.0</td>\n",
       "      <td>0.0</td>\n",
       "      <td>0.0</td>\n",
       "      <td>0.0</td>\n",
       "      <td>0.0</td>\n",
       "      <td>0.0</td>\n",
       "    </tr>\n",
       "    <tr>\n",
       "      <th>...</th>\n",
       "      <td>...</td>\n",
       "      <td>...</td>\n",
       "      <td>...</td>\n",
       "      <td>...</td>\n",
       "      <td>...</td>\n",
       "      <td>...</td>\n",
       "      <td>...</td>\n",
       "      <td>...</td>\n",
       "      <td>...</td>\n",
       "      <td>...</td>\n",
       "      <td>...</td>\n",
       "      <td>...</td>\n",
       "      <td>...</td>\n",
       "      <td>...</td>\n",
       "      <td>...</td>\n",
       "      <td>...</td>\n",
       "      <td>...</td>\n",
       "      <td>...</td>\n",
       "      <td>...</td>\n",
       "      <td>...</td>\n",
       "      <td>...</td>\n",
       "    </tr>\n",
       "    <tr>\n",
       "      <th>ffa24617ea80c268c74e86cd3ee3d9e7ac5504ec</th>\n",
       "      <td>0.0</td>\n",
       "      <td>0.0</td>\n",
       "      <td>0.0</td>\n",
       "      <td>0.0</td>\n",
       "      <td>0.0</td>\n",
       "      <td>0.0</td>\n",
       "      <td>0.0</td>\n",
       "      <td>0.0</td>\n",
       "      <td>0.0</td>\n",
       "      <td>0.0</td>\n",
       "      <td>...</td>\n",
       "      <td>0.0</td>\n",
       "      <td>0.0</td>\n",
       "      <td>0.0</td>\n",
       "      <td>0.0</td>\n",
       "      <td>0.0</td>\n",
       "      <td>0.0</td>\n",
       "      <td>0.0</td>\n",
       "      <td>0.0</td>\n",
       "      <td>0.0</td>\n",
       "      <td>0.0</td>\n",
       "    </tr>\n",
       "    <tr>\n",
       "      <th>ffadf9297a99945c0513cd87939d91d8b602936b</th>\n",
       "      <td>0.0</td>\n",
       "      <td>0.0</td>\n",
       "      <td>0.0</td>\n",
       "      <td>0.0</td>\n",
       "      <td>0.0</td>\n",
       "      <td>0.0</td>\n",
       "      <td>0.0</td>\n",
       "      <td>0.0</td>\n",
       "      <td>0.0</td>\n",
       "      <td>0.0</td>\n",
       "      <td>...</td>\n",
       "      <td>0.0</td>\n",
       "      <td>0.0</td>\n",
       "      <td>0.0</td>\n",
       "      <td>0.0</td>\n",
       "      <td>0.0</td>\n",
       "      <td>0.0</td>\n",
       "      <td>0.0</td>\n",
       "      <td>0.0</td>\n",
       "      <td>0.0</td>\n",
       "      <td>0.0</td>\n",
       "    </tr>\n",
       "    <tr>\n",
       "      <th>ffdaab327f2fc6b9fa01a4e3e7f41fdd0e468046</th>\n",
       "      <td>0.0</td>\n",
       "      <td>0.0</td>\n",
       "      <td>0.0</td>\n",
       "      <td>0.0</td>\n",
       "      <td>0.0</td>\n",
       "      <td>0.0</td>\n",
       "      <td>1.0</td>\n",
       "      <td>0.0</td>\n",
       "      <td>0.0</td>\n",
       "      <td>1.0</td>\n",
       "      <td>...</td>\n",
       "      <td>0.0</td>\n",
       "      <td>0.0</td>\n",
       "      <td>0.0</td>\n",
       "      <td>0.0</td>\n",
       "      <td>0.0</td>\n",
       "      <td>0.0</td>\n",
       "      <td>0.0</td>\n",
       "      <td>0.0</td>\n",
       "      <td>0.0</td>\n",
       "      <td>0.0</td>\n",
       "    </tr>\n",
       "    <tr>\n",
       "      <th>ffe50146303f1b12ea8254450b95580b1b99a5c4</th>\n",
       "      <td>0.0</td>\n",
       "      <td>0.0</td>\n",
       "      <td>0.0</td>\n",
       "      <td>0.0</td>\n",
       "      <td>0.0</td>\n",
       "      <td>0.0</td>\n",
       "      <td>0.0</td>\n",
       "      <td>0.0</td>\n",
       "      <td>0.0</td>\n",
       "      <td>0.0</td>\n",
       "      <td>...</td>\n",
       "      <td>0.0</td>\n",
       "      <td>0.0</td>\n",
       "      <td>0.0</td>\n",
       "      <td>0.0</td>\n",
       "      <td>0.0</td>\n",
       "      <td>0.0</td>\n",
       "      <td>0.0</td>\n",
       "      <td>0.0</td>\n",
       "      <td>0.0</td>\n",
       "      <td>0.0</td>\n",
       "    </tr>\n",
       "    <tr>\n",
       "      <th>fffce9c1537fbc350ea68823d956eaa8f5236dbe</th>\n",
       "      <td>0.0</td>\n",
       "      <td>0.0</td>\n",
       "      <td>0.0</td>\n",
       "      <td>0.0</td>\n",
       "      <td>0.0</td>\n",
       "      <td>0.0</td>\n",
       "      <td>0.0</td>\n",
       "      <td>0.0</td>\n",
       "      <td>0.0</td>\n",
       "      <td>0.0</td>\n",
       "      <td>...</td>\n",
       "      <td>0.0</td>\n",
       "      <td>0.0</td>\n",
       "      <td>0.0</td>\n",
       "      <td>0.0</td>\n",
       "      <td>0.0</td>\n",
       "      <td>0.0</td>\n",
       "      <td>0.0</td>\n",
       "      <td>0.0</td>\n",
       "      <td>0.0</td>\n",
       "      <td>0.0</td>\n",
       "    </tr>\n",
       "  </tbody>\n",
       "</table>\n",
       "<p>2042 rows × 44458 columns</p>\n",
       "</div>"
      ],
      "text/plain": [
       "song                                      SOAAAGQ12A8C1420C8  \\\n",
       "user                                                           \n",
       "0007c0e74728ca9ef0fe4eb7f75732e8026a278b                 0.0   \n",
       "000ebc858861aca26bac9b49f650ed424cf882fc                 0.0   \n",
       "00342a0cdf56a45465f09a39040a5bc25b7d0046                 0.0   \n",
       "0039bd8483d578997718cdc0bf6c7c88b679f488                 0.0   \n",
       "00498f4bab2bfeb17680113c7d9525ad5b0ad401                 0.0   \n",
       "...                                                      ...   \n",
       "ffa24617ea80c268c74e86cd3ee3d9e7ac5504ec                 0.0   \n",
       "ffadf9297a99945c0513cd87939d91d8b602936b                 0.0   \n",
       "ffdaab327f2fc6b9fa01a4e3e7f41fdd0e468046                 0.0   \n",
       "ffe50146303f1b12ea8254450b95580b1b99a5c4                 0.0   \n",
       "fffce9c1537fbc350ea68823d956eaa8f5236dbe                 0.0   \n",
       "\n",
       "song                                      SOAABMP12A6D4F7633  \\\n",
       "user                                                           \n",
       "0007c0e74728ca9ef0fe4eb7f75732e8026a278b                 0.0   \n",
       "000ebc858861aca26bac9b49f650ed424cf882fc                 0.0   \n",
       "00342a0cdf56a45465f09a39040a5bc25b7d0046                 0.0   \n",
       "0039bd8483d578997718cdc0bf6c7c88b679f488                 0.0   \n",
       "00498f4bab2bfeb17680113c7d9525ad5b0ad401                 0.0   \n",
       "...                                                      ...   \n",
       "ffa24617ea80c268c74e86cd3ee3d9e7ac5504ec                 0.0   \n",
       "ffadf9297a99945c0513cd87939d91d8b602936b                 0.0   \n",
       "ffdaab327f2fc6b9fa01a4e3e7f41fdd0e468046                 0.0   \n",
       "ffe50146303f1b12ea8254450b95580b1b99a5c4                 0.0   \n",
       "fffce9c1537fbc350ea68823d956eaa8f5236dbe                 0.0   \n",
       "\n",
       "song                                      SOAABVA12AC3DF673F  \\\n",
       "user                                                           \n",
       "0007c0e74728ca9ef0fe4eb7f75732e8026a278b                 0.0   \n",
       "000ebc858861aca26bac9b49f650ed424cf882fc                 0.0   \n",
       "00342a0cdf56a45465f09a39040a5bc25b7d0046                 0.0   \n",
       "0039bd8483d578997718cdc0bf6c7c88b679f488                 0.0   \n",
       "00498f4bab2bfeb17680113c7d9525ad5b0ad401                 0.0   \n",
       "...                                                      ...   \n",
       "ffa24617ea80c268c74e86cd3ee3d9e7ac5504ec                 0.0   \n",
       "ffadf9297a99945c0513cd87939d91d8b602936b                 0.0   \n",
       "ffdaab327f2fc6b9fa01a4e3e7f41fdd0e468046                 0.0   \n",
       "ffe50146303f1b12ea8254450b95580b1b99a5c4                 0.0   \n",
       "fffce9c1537fbc350ea68823d956eaa8f5236dbe                 0.0   \n",
       "\n",
       "song                                      SOAACPJ12A81C21360  \\\n",
       "user                                                           \n",
       "0007c0e74728ca9ef0fe4eb7f75732e8026a278b                 0.0   \n",
       "000ebc858861aca26bac9b49f650ed424cf882fc                 0.0   \n",
       "00342a0cdf56a45465f09a39040a5bc25b7d0046                 0.0   \n",
       "0039bd8483d578997718cdc0bf6c7c88b679f488                 0.0   \n",
       "00498f4bab2bfeb17680113c7d9525ad5b0ad401                 0.0   \n",
       "...                                                      ...   \n",
       "ffa24617ea80c268c74e86cd3ee3d9e7ac5504ec                 0.0   \n",
       "ffadf9297a99945c0513cd87939d91d8b602936b                 0.0   \n",
       "ffdaab327f2fc6b9fa01a4e3e7f41fdd0e468046                 0.0   \n",
       "ffe50146303f1b12ea8254450b95580b1b99a5c4                 0.0   \n",
       "fffce9c1537fbc350ea68823d956eaa8f5236dbe                 0.0   \n",
       "\n",
       "song                                      SOAACTC12AB0186A20  \\\n",
       "user                                                           \n",
       "0007c0e74728ca9ef0fe4eb7f75732e8026a278b                 0.0   \n",
       "000ebc858861aca26bac9b49f650ed424cf882fc                 0.0   \n",
       "00342a0cdf56a45465f09a39040a5bc25b7d0046                 0.0   \n",
       "0039bd8483d578997718cdc0bf6c7c88b679f488                 0.0   \n",
       "00498f4bab2bfeb17680113c7d9525ad5b0ad401                 0.0   \n",
       "...                                                      ...   \n",
       "ffa24617ea80c268c74e86cd3ee3d9e7ac5504ec                 0.0   \n",
       "ffadf9297a99945c0513cd87939d91d8b602936b                 0.0   \n",
       "ffdaab327f2fc6b9fa01a4e3e7f41fdd0e468046                 0.0   \n",
       "ffe50146303f1b12ea8254450b95580b1b99a5c4                 0.0   \n",
       "fffce9c1537fbc350ea68823d956eaa8f5236dbe                 0.0   \n",
       "\n",
       "song                                      SOAADCB12A81C22AFA  \\\n",
       "user                                                           \n",
       "0007c0e74728ca9ef0fe4eb7f75732e8026a278b                 0.0   \n",
       "000ebc858861aca26bac9b49f650ed424cf882fc                 0.0   \n",
       "00342a0cdf56a45465f09a39040a5bc25b7d0046                 0.0   \n",
       "0039bd8483d578997718cdc0bf6c7c88b679f488                 0.0   \n",
       "00498f4bab2bfeb17680113c7d9525ad5b0ad401                 0.0   \n",
       "...                                                      ...   \n",
       "ffa24617ea80c268c74e86cd3ee3d9e7ac5504ec                 0.0   \n",
       "ffadf9297a99945c0513cd87939d91d8b602936b                 0.0   \n",
       "ffdaab327f2fc6b9fa01a4e3e7f41fdd0e468046                 0.0   \n",
       "ffe50146303f1b12ea8254450b95580b1b99a5c4                 0.0   \n",
       "fffce9c1537fbc350ea68823d956eaa8f5236dbe                 0.0   \n",
       "\n",
       "song                                      SOAAEJI12AB0188AB5  \\\n",
       "user                                                           \n",
       "0007c0e74728ca9ef0fe4eb7f75732e8026a278b                 0.0   \n",
       "000ebc858861aca26bac9b49f650ed424cf882fc                 0.0   \n",
       "00342a0cdf56a45465f09a39040a5bc25b7d0046                 0.0   \n",
       "0039bd8483d578997718cdc0bf6c7c88b679f488                 0.0   \n",
       "00498f4bab2bfeb17680113c7d9525ad5b0ad401                 0.0   \n",
       "...                                                      ...   \n",
       "ffa24617ea80c268c74e86cd3ee3d9e7ac5504ec                 0.0   \n",
       "ffadf9297a99945c0513cd87939d91d8b602936b                 0.0   \n",
       "ffdaab327f2fc6b9fa01a4e3e7f41fdd0e468046                 1.0   \n",
       "ffe50146303f1b12ea8254450b95580b1b99a5c4                 0.0   \n",
       "fffce9c1537fbc350ea68823d956eaa8f5236dbe                 0.0   \n",
       "\n",
       "song                                      SOAAEKX12A6D4F7E4E  \\\n",
       "user                                                           \n",
       "0007c0e74728ca9ef0fe4eb7f75732e8026a278b                 0.0   \n",
       "000ebc858861aca26bac9b49f650ed424cf882fc                 0.0   \n",
       "00342a0cdf56a45465f09a39040a5bc25b7d0046                 0.0   \n",
       "0039bd8483d578997718cdc0bf6c7c88b679f488                 0.0   \n",
       "00498f4bab2bfeb17680113c7d9525ad5b0ad401                 0.0   \n",
       "...                                                      ...   \n",
       "ffa24617ea80c268c74e86cd3ee3d9e7ac5504ec                 0.0   \n",
       "ffadf9297a99945c0513cd87939d91d8b602936b                 0.0   \n",
       "ffdaab327f2fc6b9fa01a4e3e7f41fdd0e468046                 0.0   \n",
       "ffe50146303f1b12ea8254450b95580b1b99a5c4                 0.0   \n",
       "fffce9c1537fbc350ea68823d956eaa8f5236dbe                 0.0   \n",
       "\n",
       "song                                      SOAAFAC12A67ADF7EB  \\\n",
       "user                                                           \n",
       "0007c0e74728ca9ef0fe4eb7f75732e8026a278b                 0.0   \n",
       "000ebc858861aca26bac9b49f650ed424cf882fc                 0.0   \n",
       "00342a0cdf56a45465f09a39040a5bc25b7d0046                 0.0   \n",
       "0039bd8483d578997718cdc0bf6c7c88b679f488                 0.0   \n",
       "00498f4bab2bfeb17680113c7d9525ad5b0ad401                 0.0   \n",
       "...                                                      ...   \n",
       "ffa24617ea80c268c74e86cd3ee3d9e7ac5504ec                 0.0   \n",
       "ffadf9297a99945c0513cd87939d91d8b602936b                 0.0   \n",
       "ffdaab327f2fc6b9fa01a4e3e7f41fdd0e468046                 0.0   \n",
       "ffe50146303f1b12ea8254450b95580b1b99a5c4                 0.0   \n",
       "fffce9c1537fbc350ea68823d956eaa8f5236dbe                 0.0   \n",
       "\n",
       "song                                      SOAAFBZ12AB01842D7  ...  \\\n",
       "user                                                          ...   \n",
       "0007c0e74728ca9ef0fe4eb7f75732e8026a278b                 0.0  ...   \n",
       "000ebc858861aca26bac9b49f650ed424cf882fc                 0.0  ...   \n",
       "00342a0cdf56a45465f09a39040a5bc25b7d0046                 0.0  ...   \n",
       "0039bd8483d578997718cdc0bf6c7c88b679f488                 0.0  ...   \n",
       "00498f4bab2bfeb17680113c7d9525ad5b0ad401                 0.0  ...   \n",
       "...                                                      ...  ...   \n",
       "ffa24617ea80c268c74e86cd3ee3d9e7ac5504ec                 0.0  ...   \n",
       "ffadf9297a99945c0513cd87939d91d8b602936b                 0.0  ...   \n",
       "ffdaab327f2fc6b9fa01a4e3e7f41fdd0e468046                 1.0  ...   \n",
       "ffe50146303f1b12ea8254450b95580b1b99a5c4                 0.0  ...   \n",
       "fffce9c1537fbc350ea68823d956eaa8f5236dbe                 0.0  ...   \n",
       "\n",
       "song                                      SOZZWTD12AF72A4FA1  \\\n",
       "user                                                           \n",
       "0007c0e74728ca9ef0fe4eb7f75732e8026a278b                 0.0   \n",
       "000ebc858861aca26bac9b49f650ed424cf882fc                 0.0   \n",
       "00342a0cdf56a45465f09a39040a5bc25b7d0046                 0.0   \n",
       "0039bd8483d578997718cdc0bf6c7c88b679f488                 0.0   \n",
       "00498f4bab2bfeb17680113c7d9525ad5b0ad401                 0.0   \n",
       "...                                                      ...   \n",
       "ffa24617ea80c268c74e86cd3ee3d9e7ac5504ec                 0.0   \n",
       "ffadf9297a99945c0513cd87939d91d8b602936b                 0.0   \n",
       "ffdaab327f2fc6b9fa01a4e3e7f41fdd0e468046                 0.0   \n",
       "ffe50146303f1b12ea8254450b95580b1b99a5c4                 0.0   \n",
       "fffce9c1537fbc350ea68823d956eaa8f5236dbe                 0.0   \n",
       "\n",
       "song                                      SOZZWZV12A67AE140F  \\\n",
       "user                                                           \n",
       "0007c0e74728ca9ef0fe4eb7f75732e8026a278b                 0.0   \n",
       "000ebc858861aca26bac9b49f650ed424cf882fc                 0.0   \n",
       "00342a0cdf56a45465f09a39040a5bc25b7d0046                 0.0   \n",
       "0039bd8483d578997718cdc0bf6c7c88b679f488                 0.0   \n",
       "00498f4bab2bfeb17680113c7d9525ad5b0ad401                 0.0   \n",
       "...                                                      ...   \n",
       "ffa24617ea80c268c74e86cd3ee3d9e7ac5504ec                 0.0   \n",
       "ffadf9297a99945c0513cd87939d91d8b602936b                 0.0   \n",
       "ffdaab327f2fc6b9fa01a4e3e7f41fdd0e468046                 0.0   \n",
       "ffe50146303f1b12ea8254450b95580b1b99a5c4                 0.0   \n",
       "fffce9c1537fbc350ea68823d956eaa8f5236dbe                 0.0   \n",
       "\n",
       "song                                      SOZZXAO12A58A7D379  \\\n",
       "user                                                           \n",
       "0007c0e74728ca9ef0fe4eb7f75732e8026a278b                 0.0   \n",
       "000ebc858861aca26bac9b49f650ed424cf882fc                 0.0   \n",
       "00342a0cdf56a45465f09a39040a5bc25b7d0046                 0.0   \n",
       "0039bd8483d578997718cdc0bf6c7c88b679f488                 0.0   \n",
       "00498f4bab2bfeb17680113c7d9525ad5b0ad401                 0.0   \n",
       "...                                                      ...   \n",
       "ffa24617ea80c268c74e86cd3ee3d9e7ac5504ec                 0.0   \n",
       "ffadf9297a99945c0513cd87939d91d8b602936b                 0.0   \n",
       "ffdaab327f2fc6b9fa01a4e3e7f41fdd0e468046                 0.0   \n",
       "ffe50146303f1b12ea8254450b95580b1b99a5c4                 0.0   \n",
       "fffce9c1537fbc350ea68823d956eaa8f5236dbe                 0.0   \n",
       "\n",
       "song                                      SOZZXOX12A8AE47ED6  \\\n",
       "user                                                           \n",
       "0007c0e74728ca9ef0fe4eb7f75732e8026a278b                 0.0   \n",
       "000ebc858861aca26bac9b49f650ed424cf882fc                 0.0   \n",
       "00342a0cdf56a45465f09a39040a5bc25b7d0046                 0.0   \n",
       "0039bd8483d578997718cdc0bf6c7c88b679f488                 0.0   \n",
       "00498f4bab2bfeb17680113c7d9525ad5b0ad401                 0.0   \n",
       "...                                                      ...   \n",
       "ffa24617ea80c268c74e86cd3ee3d9e7ac5504ec                 0.0   \n",
       "ffadf9297a99945c0513cd87939d91d8b602936b                 0.0   \n",
       "ffdaab327f2fc6b9fa01a4e3e7f41fdd0e468046                 0.0   \n",
       "ffe50146303f1b12ea8254450b95580b1b99a5c4                 0.0   \n",
       "fffce9c1537fbc350ea68823d956eaa8f5236dbe                 0.0   \n",
       "\n",
       "song                                      SOZZXZP12AB0180443  \\\n",
       "user                                                           \n",
       "0007c0e74728ca9ef0fe4eb7f75732e8026a278b                 0.0   \n",
       "000ebc858861aca26bac9b49f650ed424cf882fc                 0.0   \n",
       "00342a0cdf56a45465f09a39040a5bc25b7d0046                 0.0   \n",
       "0039bd8483d578997718cdc0bf6c7c88b679f488                 0.0   \n",
       "00498f4bab2bfeb17680113c7d9525ad5b0ad401                 0.0   \n",
       "...                                                      ...   \n",
       "ffa24617ea80c268c74e86cd3ee3d9e7ac5504ec                 0.0   \n",
       "ffadf9297a99945c0513cd87939d91d8b602936b                 0.0   \n",
       "ffdaab327f2fc6b9fa01a4e3e7f41fdd0e468046                 0.0   \n",
       "ffe50146303f1b12ea8254450b95580b1b99a5c4                 0.0   \n",
       "fffce9c1537fbc350ea68823d956eaa8f5236dbe                 0.0   \n",
       "\n",
       "song                                      SOZZYAO12A6701FF36  \\\n",
       "user                                                           \n",
       "0007c0e74728ca9ef0fe4eb7f75732e8026a278b                 0.0   \n",
       "000ebc858861aca26bac9b49f650ed424cf882fc                 0.0   \n",
       "00342a0cdf56a45465f09a39040a5bc25b7d0046                 0.0   \n",
       "0039bd8483d578997718cdc0bf6c7c88b679f488                 0.0   \n",
       "00498f4bab2bfeb17680113c7d9525ad5b0ad401                 0.0   \n",
       "...                                                      ...   \n",
       "ffa24617ea80c268c74e86cd3ee3d9e7ac5504ec                 0.0   \n",
       "ffadf9297a99945c0513cd87939d91d8b602936b                 0.0   \n",
       "ffdaab327f2fc6b9fa01a4e3e7f41fdd0e468046                 0.0   \n",
       "ffe50146303f1b12ea8254450b95580b1b99a5c4                 0.0   \n",
       "fffce9c1537fbc350ea68823d956eaa8f5236dbe                 0.0   \n",
       "\n",
       "song                                      SOZZYDA12AB01824FB  \\\n",
       "user                                                           \n",
       "0007c0e74728ca9ef0fe4eb7f75732e8026a278b                 0.0   \n",
       "000ebc858861aca26bac9b49f650ed424cf882fc                 0.0   \n",
       "00342a0cdf56a45465f09a39040a5bc25b7d0046                 0.0   \n",
       "0039bd8483d578997718cdc0bf6c7c88b679f488                 0.0   \n",
       "00498f4bab2bfeb17680113c7d9525ad5b0ad401                 0.0   \n",
       "...                                                      ...   \n",
       "ffa24617ea80c268c74e86cd3ee3d9e7ac5504ec                 0.0   \n",
       "ffadf9297a99945c0513cd87939d91d8b602936b                 0.0   \n",
       "ffdaab327f2fc6b9fa01a4e3e7f41fdd0e468046                 0.0   \n",
       "ffe50146303f1b12ea8254450b95580b1b99a5c4                 0.0   \n",
       "fffce9c1537fbc350ea68823d956eaa8f5236dbe                 0.0   \n",
       "\n",
       "song                                      SOZZYMH12AB0180A51  \\\n",
       "user                                                           \n",
       "0007c0e74728ca9ef0fe4eb7f75732e8026a278b                 0.0   \n",
       "000ebc858861aca26bac9b49f650ed424cf882fc                 0.0   \n",
       "00342a0cdf56a45465f09a39040a5bc25b7d0046                 0.0   \n",
       "0039bd8483d578997718cdc0bf6c7c88b679f488                 0.0   \n",
       "00498f4bab2bfeb17680113c7d9525ad5b0ad401                 0.0   \n",
       "...                                                      ...   \n",
       "ffa24617ea80c268c74e86cd3ee3d9e7ac5504ec                 0.0   \n",
       "ffadf9297a99945c0513cd87939d91d8b602936b                 0.0   \n",
       "ffdaab327f2fc6b9fa01a4e3e7f41fdd0e468046                 0.0   \n",
       "ffe50146303f1b12ea8254450b95580b1b99a5c4                 0.0   \n",
       "fffce9c1537fbc350ea68823d956eaa8f5236dbe                 0.0   \n",
       "\n",
       "song                                      SOZZZBY12A8C139058  \\\n",
       "user                                                           \n",
       "0007c0e74728ca9ef0fe4eb7f75732e8026a278b                 0.0   \n",
       "000ebc858861aca26bac9b49f650ed424cf882fc                 0.0   \n",
       "00342a0cdf56a45465f09a39040a5bc25b7d0046                 0.0   \n",
       "0039bd8483d578997718cdc0bf6c7c88b679f488                 0.0   \n",
       "00498f4bab2bfeb17680113c7d9525ad5b0ad401                 0.0   \n",
       "...                                                      ...   \n",
       "ffa24617ea80c268c74e86cd3ee3d9e7ac5504ec                 0.0   \n",
       "ffadf9297a99945c0513cd87939d91d8b602936b                 0.0   \n",
       "ffdaab327f2fc6b9fa01a4e3e7f41fdd0e468046                 0.0   \n",
       "ffe50146303f1b12ea8254450b95580b1b99a5c4                 0.0   \n",
       "fffce9c1537fbc350ea68823d956eaa8f5236dbe                 0.0   \n",
       "\n",
       "song                                      SOZZZFB12A8AE45CDC  \n",
       "user                                                          \n",
       "0007c0e74728ca9ef0fe4eb7f75732e8026a278b                 0.0  \n",
       "000ebc858861aca26bac9b49f650ed424cf882fc                 0.0  \n",
       "00342a0cdf56a45465f09a39040a5bc25b7d0046                 0.0  \n",
       "0039bd8483d578997718cdc0bf6c7c88b679f488                 0.0  \n",
       "00498f4bab2bfeb17680113c7d9525ad5b0ad401                 0.0  \n",
       "...                                                      ...  \n",
       "ffa24617ea80c268c74e86cd3ee3d9e7ac5504ec                 0.0  \n",
       "ffadf9297a99945c0513cd87939d91d8b602936b                 0.0  \n",
       "ffdaab327f2fc6b9fa01a4e3e7f41fdd0e468046                 0.0  \n",
       "ffe50146303f1b12ea8254450b95580b1b99a5c4                 0.0  \n",
       "fffce9c1537fbc350ea68823d956eaa8f5236dbe                 0.0  \n",
       "\n",
       "[2042 rows x 44458 columns]"
      ]
     },
     "execution_count": 36,
     "metadata": {},
     "output_type": "execute_result"
    }
   ],
   "source": [
    "user_item_matrix"
   ]
  },
  {
   "cell_type": "code",
   "execution_count": 37,
   "metadata": {},
   "outputs": [
    {
     "data": {
      "text/plain": [
       "user\n",
       "0007c0e74728ca9ef0fe4eb7f75732e8026a278b    44445\n",
       "000ebc858861aca26bac9b49f650ed424cf882fc    43980\n",
       "00342a0cdf56a45465f09a39040a5bc25b7d0046    44365\n",
       "0039bd8483d578997718cdc0bf6c7c88b679f488    44394\n",
       "00498f4bab2bfeb17680113c7d9525ad5b0ad401    44442\n",
       "                                            ...  \n",
       "ffa24617ea80c268c74e86cd3ee3d9e7ac5504ec    44419\n",
       "ffadf9297a99945c0513cd87939d91d8b602936b    44430\n",
       "ffdaab327f2fc6b9fa01a4e3e7f41fdd0e468046    44058\n",
       "ffe50146303f1b12ea8254450b95580b1b99a5c4    44445\n",
       "fffce9c1537fbc350ea68823d956eaa8f5236dbe    44404\n",
       "Length: 2042, dtype: int64"
      ]
     },
     "execution_count": 37,
     "metadata": {},
     "output_type": "execute_result"
    }
   ],
   "source": [
    "# Calculate the number of songs not listened to by each user\n",
    "not_listened_counts = user_item_matrix.apply(lambda row: len(row[row == 0]), axis=1)\n",
    "not_listened_counts"
   ]
  },
  {
   "cell_type": "markdown",
   "metadata": {},
   "source": [
    "\n",
    "* Upon generating the user-item matrix for our recommendation system, we found that the matrix displayed a high level of disparity. This means that there was a significant variation in the listening habits across different users, with many songs not being listened to by a majority of users. High disparity in the user-item matrix can be challenging for collaborative filtering algorithms, as it may lead to a sparsity problem where there are not enough overlapping listening events between users to accurately predict preferences. This condition necessitates more sophisticated techniques or the incorporation of additional information to enhance the recommendation process."
   ]
  },
  {
   "cell_type": "markdown",
   "metadata": {},
   "source": [
    "## Prepare Data"
   ]
  },
  {
   "cell_type": "code",
   "execution_count": 38,
   "metadata": {},
   "outputs": [],
   "source": [
    "# Get how many songs each user have listened to\n",
    "user_counts = df1.groupby('user')['song'].count()\n",
    "\n",
    "# Filter users which have listen to at least 10 songs\n",
    "user_ten_id = user_counts[user_counts > 10].index.to_list()"
   ]
  },
  {
   "cell_type": "code",
   "execution_count": 39,
   "metadata": {},
   "outputs": [],
   "source": [
    "# Get how many user have listened to each song\n",
    "song_counts = df1.groupby('song')['user'].count()\n",
    "\n",
    "# Get songs which have been listened at least 3 times\n",
    "song_ten_id = song_counts[song_counts > 3].index.to_list()"
   ]
  },
  {
   "cell_type": "code",
   "execution_count": 40,
   "metadata": {},
   "outputs": [],
   "source": [
    "# Filtered the dataset to keep only those users with more than 10 listened\n",
    "df_song_reduced = df1[(df1['user'].isin(user_ten_id)) & (df1['song'].isin(song_ten_id))].reset_index()"
   ]
  },
  {
   "cell_type": "code",
   "execution_count": 41,
   "metadata": {},
   "outputs": [
    {
     "data": {
      "text/plain": [
       "(49618, 8)"
      ]
     },
     "execution_count": 41,
     "metadata": {},
     "output_type": "execute_result"
    }
   ],
   "source": [
    "df_song_reduced.shape\n"
   ]
  },
  {
   "cell_type": "code",
   "execution_count": 42,
   "metadata": {},
   "outputs": [],
   "source": [
    "bins = [0, 1, 2, 3, 4, 5, 6, 7, 8, 9, 2214]\n"
   ]
  },
  {
   "cell_type": "code",
   "execution_count": 43,
   "metadata": {},
   "outputs": [],
   "source": [
    "df_song_reduced['play_count'] = pd.cut(df_song_reduced['play_count'], bins=bins, labels=[1, 2, 3, 4, 5, 6, 7, 8, 9, 10])\n"
   ]
  },
  {
   "cell_type": "code",
   "execution_count": 44,
   "metadata": {},
   "outputs": [],
   "source": [
    "listen_counts = pd.DataFrame(df_song_reduced.groupby('play_count').size(), columns=['count']).reset_index(drop=False)\n"
   ]
  },
  {
   "cell_type": "code",
   "execution_count": 45,
   "metadata": {
    "scrolled": true
   },
   "outputs": [
    {
     "data": {
      "text/html": [
       "<div>\n",
       "<style scoped>\n",
       "    .dataframe tbody tr th:only-of-type {\n",
       "        vertical-align: middle;\n",
       "    }\n",
       "\n",
       "    .dataframe tbody tr th {\n",
       "        vertical-align: top;\n",
       "    }\n",
       "\n",
       "    .dataframe thead th {\n",
       "        text-align: right;\n",
       "    }\n",
       "</style>\n",
       "<table border=\"1\" class=\"dataframe\">\n",
       "  <thead>\n",
       "    <tr style=\"text-align: right;\">\n",
       "      <th></th>\n",
       "      <th>play_count</th>\n",
       "      <th>count</th>\n",
       "    </tr>\n",
       "  </thead>\n",
       "  <tbody>\n",
       "    <tr>\n",
       "      <th>0</th>\n",
       "      <td>1</td>\n",
       "      <td>28658</td>\n",
       "    </tr>\n",
       "    <tr>\n",
       "      <th>1</th>\n",
       "      <td>2</td>\n",
       "      <td>7706</td>\n",
       "    </tr>\n",
       "    <tr>\n",
       "      <th>2</th>\n",
       "      <td>3</td>\n",
       "      <td>3576</td>\n",
       "    </tr>\n",
       "    <tr>\n",
       "      <th>3</th>\n",
       "      <td>4</td>\n",
       "      <td>1903</td>\n",
       "    </tr>\n",
       "    <tr>\n",
       "      <th>4</th>\n",
       "      <td>5</td>\n",
       "      <td>2152</td>\n",
       "    </tr>\n",
       "    <tr>\n",
       "      <th>5</th>\n",
       "      <td>6</td>\n",
       "      <td>1163</td>\n",
       "    </tr>\n",
       "    <tr>\n",
       "      <th>6</th>\n",
       "      <td>7</td>\n",
       "      <td>759</td>\n",
       "    </tr>\n",
       "    <tr>\n",
       "      <th>7</th>\n",
       "      <td>8</td>\n",
       "      <td>529</td>\n",
       "    </tr>\n",
       "    <tr>\n",
       "      <th>8</th>\n",
       "      <td>9</td>\n",
       "      <td>411</td>\n",
       "    </tr>\n",
       "    <tr>\n",
       "      <th>9</th>\n",
       "      <td>10</td>\n",
       "      <td>2761</td>\n",
       "    </tr>\n",
       "  </tbody>\n",
       "</table>\n",
       "</div>"
      ],
      "text/plain": [
       "  play_count  count\n",
       "0          1  28658\n",
       "1          2   7706\n",
       "2          3   3576\n",
       "3          4   1903\n",
       "4          5   2152\n",
       "5          6   1163\n",
       "6          7    759\n",
       "7          8    529\n",
       "8          9    411\n",
       "9         10   2761"
      ]
     },
     "execution_count": 45,
     "metadata": {},
     "output_type": "execute_result"
    }
   ],
   "source": [
    "listen_counts"
   ]
  },
  {
   "cell_type": "code",
   "execution_count": 46,
   "metadata": {},
   "outputs": [
    {
     "data": {
      "image/png": "[encoded data removed]",
      "text/plain": [
       "<Figure size 1600x800 with 1 Axes>"
      ]
     },
     "metadata": {},
     "output_type": "display_data"
    }
   ],
   "source": [
    "plt.figure(figsize=(16, 8))\n",
    "sns.barplot(x='play_count', y='count', palette='Set3', data=listen_counts)\n",
    "plt.gca().spines['top'].set_visible(False)\n",
    "plt.gca().spines['right'].set_visible(False)\n",
    "plt.show();"
   ]
  },
  {
   "cell_type": "code",
   "execution_count": 47,
   "metadata": {},
   "outputs": [],
   "source": [
    "reader = Reader(rating_scale=(1, 5))\n",
    "data = Dataset.load_from_df(df_song_reduced[['user', 'song', 'play_count']], reader)\n"
   ]
  },
  {
   "cell_type": "markdown",
   "metadata": {},
   "source": [
    "# Train model "
   ]
  },
  {
   "cell_type": "code",
   "execution_count": 48,
   "metadata": {},
   "outputs": [],
   "source": [
    "trainset, testset = train_test_split(data, test_size=.25)\n"
   ]
  },
  {
   "cell_type": "markdown",
   "metadata": {},
   "source": [
    "## Hypertuning"
   ]
  },
  {
   "cell_type": "code",
   "execution_count": 49,
   "metadata": {},
   "outputs": [],
   "source": [
    "param_grid = {'n_factors': [160], \n",
    "              'n_epochs': [100], \n",
    "              'lr_all': [0.001, 0.005],\n",
    "              'reg_all': [0.08, 0.1]}"
   ]
  },
  {
   "cell_type": "code",
   "execution_count": 50,
   "metadata": {},
   "outputs": [],
   "source": [
    "#Using GridSearch to find best parameters\n",
    "grid_search_svd = GridSearchCV(SVD, param_grid, measures=['rmse'], cv=3, joblib_verbose=4, n_jobs=-2)\n"
   ]
  },
  {
   "cell_type": "code",
   "execution_count": 51,
   "metadata": {},
   "outputs": [
    {
     "name": "stderr",
     "output_type": "stream",
     "text": [
      "[Parallel(n_jobs=-2)]: Using backend LokyBackend with 3 concurrent workers.\n"
     ]
    },
    {
     "name": "stdout",
     "output_type": "stream",
     "text": [
      "2.1992119848159355\n",
      "{'n_factors': 160, 'n_epochs': 100, 'lr_all': 0.001, 'reg_all': 0.1}\n"
     ]
    },
    {
     "name": "stderr",
     "output_type": "stream",
     "text": [
      "[Parallel(n_jobs=-2)]: Done  12 out of  12 | elapsed:   26.5s finished\n"
     ]
    }
   ],
   "source": [
    "# find the best parameters for the model\n",
    "grid_search_svd.fit(data)\n",
    "find_algo = grid_search_svd.best_estimator['rmse']\n",
    "print(grid_search_svd.best_score['rmse'])\n",
    "print(grid_search_svd.best_params['rmse'])"
   ]
  },
  {
   "cell_type": "markdown",
   "metadata": {},
   "source": [
    "## Evaluate the model"
   ]
  },
  {
   "cell_type": "code",
   "execution_count": 52,
   "metadata": {},
   "outputs": [
    {
     "name": "stdout",
     "output_type": "stream",
     "text": [
      "Evaluating RMSE of algorithm SVD on 5 split(s).\n",
      "\n",
      "                  Fold 1  Fold 2  Fold 3  Fold 4  Fold 5  Mean    Std     \n",
      "RMSE (testset)    2.1780  2.2008  2.2201  2.1774  2.1339  2.1820  0.0288  \n",
      "Fit time          4.83    5.25    5.23    4.60    4.47    4.88    0.32    \n",
      "Test time         0.08    0.15    0.09    0.09    0.12    0.11    0.02    \n"
     ]
    },
    {
     "data": {
      "text/plain": [
       "{'test_rmse': array([2.17796293, 2.20083968, 2.22005681, 2.17739298, 2.13391174]),\n",
       " 'fit_time': (4.834278106689453,\n",
       "  5.250964879989624,\n",
       "  5.2306969165802,\n",
       "  4.603642702102661,\n",
       "  4.472877264022827),\n",
       " 'test_time': (0.08115339279174805,\n",
       "  0.14791083335876465,\n",
       "  0.09092187881469727,\n",
       "  0.09112310409545898,\n",
       "  0.12132024765014648)}"
      ]
     },
     "execution_count": 52,
     "metadata": {},
     "output_type": "execute_result"
    }
   ],
   "source": [
    "# Perform the cross validation\n",
    "cross_validate(find_algo, data, measures=['RMSE'], cv=5, verbose=True)"
   ]
  },
  {
   "cell_type": "code",
   "execution_count": 53,
   "metadata": {},
   "outputs": [
    {
     "name": "stdout",
     "output_type": "stream",
     "text": [
      "RMSE: 2.1862\n",
      "The RMSE is 2.186171143359728\n"
     ]
    }
   ],
   "source": [
    "final_algorithm = SVD(n_factors=160, n_epochs=100, lr_all=0.005, reg_all=0.8)\n",
    "final_algorithm.fit(trainset)\n",
    "test_predictions = final_algorithm.test(testset)\n",
    "print(f\"The RMSE is {accuracy.rmse(test_predictions, verbose=True)}\")"
   ]
  },
  {
   "cell_type": "code",
   "execution_count": 54,
   "metadata": {},
   "outputs": [
    {
     "data": {
      "text/plain": [
       "'----------------------------------------------------------------------------------------------------------------------------\\n# Get and print top-N recommendations for each user\\ntop_n = get_top_n(predictions, n=5)\\nfor uid, user_ratings in top_n.items():\\n    print(uid, [iid for (iid, _) in user_ratings])\\n'"
      ]
     },
     "execution_count": 54,
     "metadata": {},
     "output_type": "execute_result"
    }
   ],
   "source": [
    "def get_top_n(predictions, n=10):\n",
    "    # First map the predictions to each user.\n",
    "    top_n = defaultdict(list)\n",
    "    for uid, iid, true_r, est, _ in predictions:\n",
    "        top_n[uid].append((iid, est))\n",
    "\n",
    "    # Then sort the predictions for each user and retrieve the n highest ones.\n",
    "    for uid, user_ratings in top_n.items():\n",
    "        user_ratings.sort(key=lambda x: x[1], reverse=True)\n",
    "        top_n[uid] = user_ratings[:n]\n",
    "\n",
    "    return top_n\n",
    "\n",
    "# Predict ratings for all pairs (u, i) that are NOT in the training set\n",
    "testset = trainset.build_anti_testset()\n",
    "predictions = final_algorithm.test(testset)\n",
    "\n",
    "'''----------------------------------------------------------------------------------------------------------------------------\n",
    "# Get and print top-N recommendations for each user\n",
    "top_n = get_top_n(predictions, n=5)\n",
    "for uid, user_ratings in top_n.items():\n",
    "    print(uid, [iid for (iid, _) in user_ratings])\n",
    "'''\n"
   ]
  },
  {
   "cell_type": "code",
   "execution_count": 55,
   "metadata": {},
   "outputs": [
    {
     "name": "stdout",
     "output_type": "stream",
     "text": [
      "Lesson Learned\n"
     ]
    }
   ],
   "source": [
    "# Get and print list of recomandations\n",
    "top_n = get_top_n(predictions, n=1)\n",
    "for uid, user_ratings in top_n.items():\n",
    "    #user_id shoulf be an input selected by the\n",
    "    if uid==\"21f4ac98aa1665bd42027ba12184a939ff435f59\":\n",
    "        #obtenir le nom de la music la plus populaire\n",
    "        out_f=df1[df1['song']==user_ratings[0][0]]['title'].iloc[0] \n",
    "        #here for out_f shoulf be a text in the plateforme\n",
    "        print(out_f)\n",
    "        break;\n"
   ]
  },
  {
   "cell_type": "markdown",
   "metadata": {},
   "source": [
    "# Save the model"
   ]
  },
  {
   "cell_type": "code",
   "execution_count": 56,
   "metadata": {},
   "outputs": [],
   "source": [
    "# Specify the file path where you want to save the model\n",
    "model_file_path = 'recommandation_model.pkl'\n",
    "\n",
    "# Save the trained model to the file\n",
    "dump.dump(model_file_path, predictions)"
   ]
  },
  {
   "cell_type": "markdown",
   "metadata": {},
   "source": [
    "## Load the model"
   ]
  },
  {
   "cell_type": "code",
   "execution_count": 57,
   "metadata": {},
   "outputs": [],
   "source": [
    "file_name = 'recommandation_model.pkl'  \n",
    "predictions, algo = dump.load(file_name)"
   ]
  }
 ],
 "metadata": {
  "accelerator": "GPU",
  "colab": {
   "gpuType": "T4",
   "provenance": []
  },
  "kernelspec": {
   "display_name": "Python 3 (ipykernel)",
   "language": "python",
   "name": "python3"
  },
  "language_info": {
   "codemirror_mode": {
    "name": "ipython",
    "version": 3
   },
   "file_extension": ".py",
   "mimetype": "text/x-python",
   "name": "python",
   "nbconvert_exporter": "python",
   "pygments_lexer": "ipython3",
   "version": "3.11.5"
  }
 },
 "nbformat": 4,
 "nbformat_minor": 4
}
